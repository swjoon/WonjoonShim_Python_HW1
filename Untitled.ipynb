{
 "cells": [
  {
   "cell_type": "markdown",
   "id": "3f17a5d6",
   "metadata": {},
   "source": [
    "# 선형리스트 생성 프로그램"
   ]
  },
  {
   "cell_type": "code",
   "execution_count": null,
   "id": "284f17c6",
   "metadata": {},
   "outputs": [],
   "source": [
    "def add_data(friend):\n",
    "    \n",
    "    katok.append(None)\n",
    "    kLen = len(katok)\n",
    "    katok[kLen-1]= (friend)"
   ]
  },
  {
   "cell_type": "code",
   "execution_count": null,
   "id": "1bc34c74",
   "metadata": {},
   "outputs": [],
   "source": [
    "def delete_data(position):\n",
    "    \n",
    "    if position < 0 or position > len(katok):\n",
    "        print(\"데이터를 삭제할 범위를 벗어났습니다.\")\n",
    "        return\n",
    "    \n",
    "    kLen = len(katok)\n",
    "    katok[position]=None\n",
    "    \n",
    "    for i in range(position+1,kLen):\n",
    "        katok[i-1]=katok[i]\n",
    "        katok[i]=None\n",
    "        \n",
    "    del(katok[kLen-1])"
   ]
  },
  {
   "cell_type": "code",
   "execution_count": null,
   "id": "a6636f41",
   "metadata": {},
   "outputs": [],
   "source": [
    "katok = []\n",
    "select = -1"
   ]
  },
  {
   "cell_type": "code",
   "execution_count": null,
   "id": "4a29da31",
   "metadata": {},
   "outputs": [],
   "source": [
    "if __name__==\"__main__\":\n",
    "\n",
    "    while (select != 3):\n",
    "\n",
    "        select = int(input(\"선택하세요(1:추가, 2:삭제, 3:종료)-->\"))\n",
    "\n",
    "        if (select == 1):\n",
    "            data = input(\"추가할 데이터-->\")\n",
    "            add_data(data)\n",
    "            for i in range(0,len(katok)):\n",
    "                for j in range(0,i):\n",
    "                    if katok[j]<=katok[i]:\n",
    "                        temp = katok[j]\n",
    "                        katok[j]=katok[i]\n",
    "                        katok[i]=temp\n",
    "            print(katok)\n",
    "\n",
    "        elif (select == 2):\n",
    "            pos = int(input(\"삭제할 순서-->\"))\n",
    "            delete_data(pos-1)\n",
    "            print(katok)\n",
    "\n",
    "        elif (select == 3):\n",
    "            exit\n",
    "        else :\n",
    "            print(\"1 ~ 3 중 하나를 입력하시오.\")\n",
    "            continue"
   ]
  }
 ],
 "metadata": {
  "kernelspec": {
   "display_name": "Python 3 (ipykernel)",
   "language": "python",
   "name": "python3"
  },
  "language_info": {
   "codemirror_mode": {
    "name": "ipython",
    "version": 3
   },
   "file_extension": ".py",
   "mimetype": "text/x-python",
   "name": "python",
   "nbconvert_exporter": "python",
   "pygments_lexer": "ipython3",
   "version": "3.9.12"
  }
 },
 "nbformat": 4,
 "nbformat_minor": 5
}
